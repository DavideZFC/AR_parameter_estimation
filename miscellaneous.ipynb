{
 "cells": [
  {
   "cell_type": "code",
   "execution_count": 1,
   "metadata": {},
   "outputs": [],
   "source": [
    "import numpy as np"
   ]
  },
  {
   "cell_type": "code",
   "execution_count": 4,
   "metadata": {},
   "outputs": [],
   "source": [
    "def build_feature_matrix(lam):\n",
    "    N = len(lam)\n",
    "    mat = np.zeros((N,N))\n",
    "    for i in range(N):\n",
    "        mat[:,i] = lam[i]**np.arange(N)\n",
    "    return mat\n",
    "\n",
    "def evaluate_on_vector(M,v):\n",
    "    return np.linalg.solve(M,v)\n"
   ]
  },
  {
   "cell_type": "code",
   "execution_count": 7,
   "metadata": {},
   "outputs": [
    {
     "data": {
      "text/plain": [
       "array([   3.98019802, -201.        ,  198.01980198])"
      ]
     },
     "execution_count": 7,
     "metadata": {},
     "output_type": "execute_result"
    }
   ],
   "source": [
    "mat = build_feature_matrix([1,2,2.01])\n",
    "\n",
    "v = np.array([1,0,0])\n",
    "\n",
    "evaluate_on_vector(mat, v)"
   ]
  }
 ],
 "metadata": {
  "kernelspec": {
   "display_name": "Python 3",
   "language": "python",
   "name": "python3"
  },
  "language_info": {
   "codemirror_mode": {
    "name": "ipython",
    "version": 3
   },
   "file_extension": ".py",
   "mimetype": "text/x-python",
   "name": "python",
   "nbconvert_exporter": "python",
   "pygments_lexer": "ipython3",
   "version": "0.0.0"
  },
  "orig_nbformat": 4
 },
 "nbformat": 4,
 "nbformat_minor": 2
}
